{
 "cells": [
  {
   "cell_type": "markdown",
   "id": "55f8d455-072f-43ba-bc70-118f9083b8d1",
   "metadata": {
    "tags": []
   },
   "source": [
    "# Data Science Tools and Ecosystem"
   ]
  },
  {
   "cell_type": "markdown",
   "id": "e95d1e92",
   "metadata": {},
   "source": [
    "## Author\n",
    "Harkins12345"
   ]
  },
  {
   "cell_type": "markdown",
   "id": "18f219bf-1b89-4e2d-a423-667cbe4c429b",
   "metadata": {},
   "source": [
    "In this notebook, Data Science Tools and Ecosystem are summarized."
   ]
  },
  {
   "cell_type": "markdown",
   "id": "890ac7c5",
   "metadata": {},
   "source": [
    "**Objectives**:\n",
    "- List popular data science languages\n",
    "- List commonly used libraries\n",
    "- Give example of arithmetic expression in Python\n",
    "- Define a function to return hours with a minutes input (rounded to 2 decimal places)"
   ]
  },
  {
   "cell_type": "markdown",
   "id": "918ee848-5ab5-4e99-ba2c-d2266dcd949a",
   "metadata": {
    "tags": []
   },
   "source": [
    "Some of the popular languages that Data Scientists use are:\n",
    "\n",
    "1. Python\n",
    "1. R\n",
    "1. SQL\n",
    "\n",
    "Some of the commonly used libraries used by Data Scientists include:\n",
    "\n",
    "1. Pandas\n",
    "2. NumPy\n",
    "3. Matplotlib"
   ]
  },
  {
   "cell_type": "markdown",
   "id": "d73f4f5f-ebab-44c4-95fc-e464d76a1359",
   "metadata": {},
   "source": [
    "|Data Science Tools|\n",
    "|---|\n",
    "|Jupyter Notebook|\n",
    "|RStudio|\n",
    "|Visual Studio Code|"
   ]
  },
  {
   "cell_type": "markdown",
   "id": "e6e1f094-e101-4f8f-9fb4-026e4931bd24",
   "metadata": {},
   "source": [
    "### Below are a few examples of evaluating arithmetic expressions in Python"
   ]
  },
  {
   "cell_type": "code",
   "execution_count": 1,
   "id": "3c79fdfa-0bdb-44d2-ada7-058231f840f1",
   "metadata": {},
   "outputs": [
    {
     "name": "stdout",
     "output_type": "stream",
     "text": [
      "17\n"
     ]
    }
   ],
   "source": [
    "print((3*4)+5)\n",
    "# This a simple arithmetic expression to mutiply then add integers"
   ]
  },
  {
   "cell_type": "code",
   "execution_count": null,
   "id": "53487556-9dbe-43ae-a6f0-259625ab83ac",
   "metadata": {},
   "outputs": [],
   "source": [
    "def minutes_to_hours(mins):\n",
    "    hours = mins // 60\n",
    "    return round(hours, 2)\n",
    "\n",
    "\n",
    "print(minutes_to_hours)\n",
    "# This will convert 200 minutes to hours by diving by 60."
   ]
  }
 ],
 "metadata": {
  "kernelspec": {
   "display_name": "Python 3",
   "language": "python",
   "name": "python3"
  },
  "language_info": {
   "codemirror_mode": {
    "name": "ipython",
    "version": 3
   },
   "file_extension": ".py",
   "mimetype": "text/x-python",
   "name": "python",
   "nbconvert_exporter": "python",
   "pygments_lexer": "ipython3",
   "version": "3.11.2"
  }
 },
 "nbformat": 4,
 "nbformat_minor": 5
}
